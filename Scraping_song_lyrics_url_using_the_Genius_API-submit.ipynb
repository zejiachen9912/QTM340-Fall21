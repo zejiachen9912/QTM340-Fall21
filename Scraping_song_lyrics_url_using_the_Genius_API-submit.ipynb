{
 "cells": [
  {
   "cell_type": "markdown",
   "metadata": {},
   "source": [
    "    \n",
    "<h1 style=\"text-align: center; color: purple;\" markdown=\"1\">QTM 340, Q2: Scraping song lyrics url using the Genius API </h1>\n",
    "\n",
    "<h2 style=\"text-align: center; color: #012169\" markdown=\"1\">Zejia Chen</h2>\n"
   ]
  },
  {
   "cell_type": "code",
   "execution_count": 1,
   "metadata": {},
   "outputs": [],
   "source": [
    "# import requests and beautiful soup package\n",
    "from bs4 import BeautifulSoup\n",
    "import requests"
   ]
  },
  {
   "cell_type": "markdown",
   "metadata": {},
   "source": [
    "## Scraping artist and song title on New York Times"
   ]
  },
  {
   "cell_type": "code",
   "execution_count": 2,
   "metadata": {},
   "outputs": [],
   "source": [
    "# send request to New York times \n",
    "resp_nyt = requests.get(\"https://www.nytimes.com/interactive/2019/08/19/us/politics/presidential-campaign-songs-playlists.html\")\n",
    "html_str_nyt = resp_nyt.text\n",
    "document_nyt = BeautifulSoup(html_str_nyt, \"html.parser\")"
   ]
  },
  {
   "cell_type": "code",
   "execution_count": 3,
   "metadata": {},
   "outputs": [
    {
     "data": {
      "text/plain": [
       "{'Respect': 'Aretha Franklin',\n",
       " '9 to 5': 'Dolly Parton',\n",
       " 'Stand by Me': 'Ben E. King',\n",
       " 'Work That': 'Mary J. Blige',\n",
       " 'High Hopes': 'Panic! at the Disco',\n",
       " 'Dance to the Music': 'Sly & the Family Stone',\n",
       " 'Love Train': 'The O’Jays',\n",
       " 'I’m Coming Out': 'Diana Ross',\n",
       " 'One Nation Under a Groove': 'Funkadelic',\n",
       " 'Rocking in the Free World': 'Neil Young',\n",
       " 'My Shot': 'Lin-Manuel Miranda',\n",
       " 'Superwoman': 'Alicia Keys',\n",
       " 'Good as Hell': 'Lizzo',\n",
       " 'Higher Ground': 'Stevie Wonder',\n",
       " 'Lovely Day': 'Bill Withers',\n",
       " 'California Love ': 'Tupac Shakur',\n",
       " 'Run the World (Girls)': 'Beyoncé',\n",
       " 'Think': 'Aretha Franklin',\n",
       " 'Dis Generation': 'A Tribe Called Quest',\n",
       " 'Girl on Fire': 'Alicia Keys',\n",
       " 'Revolution': 'Toots and the Maytals',\n",
       " 'Power to the People': 'John Lennon',\n",
       " 'Made in the USA': 'Demi Lovato',\n",
       " 'Believer': 'Imagine Dragons',\n",
       " 'Latinoamérica': 'Calle 13',\n",
       " 'God Bless the USA': 'Lee Greenwoood',\n",
       " 'I Love Rock ’n Roll': 'Joan Jett & the Blackhearts',\n",
       " 'Confident': 'Demi Lovato',\n",
       " 'I Wanna Dance with Somebody (Who Loves Me)': 'Whitney Houston',\n",
       " 'Empire State of Mind ': 'Jay-Z (featuring Alicia Keys)',\n",
       " 'Dog Days Are Over': 'Florence + the Machine',\n",
       " 'Born This Way': 'Lady Gaga',\n",
       " 'Baila Esta Cumbia': 'Selena',\n",
       " 'Macho Man': 'Village People',\n",
       " 'Everyday People': 'Joan Jett & the Blackhearts',\n",
       " 'Clampdown': 'The Clash',\n",
       " 'The Edge of Glory': 'Lady Gaga',\n",
       " 'Learn to Live': 'Darius Rucker',\n",
       " 'Under Pressure': 'Queen',\n",
       " 'Country Nation': 'Brad Paisley',\n",
       " 'Yes We Can Can': 'The Pointer Sisters',\n",
       " 'Baba O’Riley': 'The Who',\n",
       " 'Love on Top': 'Beyoncé',\n",
       " 'Soar': 'Christina Aguilera',\n",
       " 'Feeling Good': 'Jennifer Hudson',\n",
       " 'Stand up for Something ': 'Andra Day (featuring Common)',\n",
       " 'Fire': 'Timeflies',\n",
       " 'Mi Tierra': 'Gloria Estefan',\n",
       " 'Let Love Rule': 'Lenny Kravitz',\n",
       " 'Third Eye': 'Florence + the Machine',\n",
       " 'The Times They Are a-Changin’': 'Tracy Chapman',\n",
       " 'Da Da Ding ': 'GENER8ION (featuring Gizzle)',\n",
       " 'Never Going Back Again': 'Fleetwood Mac',\n",
       " 'Move on Up': 'Curtis Mayfield',\n",
       " 'Ain’t No Man': 'The Avett Brothers',\n",
       " 'Come Alive ': 'Years & Years with Jess Glynne',\n",
       " 'Brooklyn Go Hard': 'Jay-Z',\n",
       " 'On the Road Again (Live)': 'Willie Nelson',\n",
       " 'Uprising': 'Muse',\n",
       " 'The Revolution Starts...': 'Steve Earle',\n",
       " 'Takin’ It to the Streets': 'The Doobie Brothers',\n",
       " 'Heroes ': 'David Bowie',\n",
       " 'All We Ever Knew': 'The Head and the Heart',\n",
       " '(Your Love Keeps Lifting Me) Higher & Higher': 'Jackie Wilson',\n",
       " 'Rollercoaster': 'Bleachers',\n",
       " 'Sweet Home Alabama': 'Lynyrd Skynyrd',\n",
       " 'Tiny Dancer': 'Elton John',\n",
       " 'Eye of the Tiger': 'Survivor',\n",
       " 'American Girl': 'Tom Petty and the Heartbreakers',\n",
       " 'Keep Ya Head Up': 'Tupac Shakur',\n",
       " 'O-o-h Child': 'Five Stairsteps',\n",
       " 'God Is a Woman': 'Ariana Grande',\n",
       " 'Redbone': 'Childish Gambino',\n",
       " 'Choices (Yup)': 'E-40',\n",
       " 'Just a Girl': 'No Doubt',\n",
       " 'Try a Little Tenderness': 'Otis Redding',\n",
       " 'Ladies First': 'Queen Latifah',\n",
       " 'King of Anything': 'Sara Bareilles',\n",
       " 'Bidi Bidi Bom Bom': 'Selena',\n",
       " 'Freedom (Homecoming Live)': 'Beyoncé',\n",
       " 'We Take Care of Our Own': 'Bruce Springsteen',\n",
       " 'Tightrope ': 'Janelle Monáe',\n",
       " 'I’ve Been Everywhere': 'Johnny Cash',\n",
       " 'River': 'Leon Bridges',\n",
       " 'The Underdog': 'Spoon',\n",
       " 'You Are My Rock n’ Roll Star': 'Fragile Gang',\n",
       " 'Roadrunner': 'The Modern Lovers',\n",
       " 'American Pie': 'Shea Diamond',\n",
       " 'The Distance': 'Cake',\n",
       " 'Disco Inferno ': 'The Trammps',\n",
       " 'Runaway (U & I)': 'Galantis',\n",
       " 'America': 'Simon & Garfunkel',\n",
       " 'Make a Change': 'Buckwheat Zydeco',\n",
       " 'Could It Be I’m Falling in Love': 'The Spinners',\n",
       " 'Keep Going': 'The Revivalists',\n",
       " 'Good Times': 'Sam Cooke',\n",
       " 'All I Do': 'Stevie Wonder',\n",
       " 'Teardrops': 'Womack & Womack',\n",
       " 'The Weight': 'Aretha Franklin',\n",
       " 'All Summer Long': 'Kid Rock',\n",
       " 'Candle in the Wind': 'Elton John'}"
      ]
     },
     "execution_count": 3,
     "metadata": {},
     "output_type": "execute_result"
    }
   ],
   "source": [
    "# Extracting the song artist and titles\n",
    "song_dict = {}  \n",
    "\n",
    "\n",
    "for tag in document_nyt.find_all(\"span\", attrs = {\"class\": \"song-title\"}):\n",
    "    title_name = tag.string\n",
    "    #print(title_name)\n",
    "    artist_name = tag.find_next_sibling(\"span\", attrs = {\"class\": \"song-artist\"}).string\n",
    "    #print(artist_name)\n",
    "    song_dict[title_name] = artist_name \n",
    "    \n",
    "song_dict\n"
   ]
  },
  {
   "cell_type": "markdown",
   "metadata": {},
   "source": [
    "***"
   ]
  },
  {
   "cell_type": "markdown",
   "metadata": {},
   "source": [
    "## Getting the correspond lyrics from Genius using Genius.api"
   ]
  },
  {
   "cell_type": "code",
   "execution_count": 4,
   "metadata": {},
   "outputs": [],
   "source": [
    "# getting access to the genuis api\n",
    "client_access_token = \"Ftox8kH6D0QYYWgUvfrh8sJHr-G6DG_gkWLk9Q2h1oTAMs89IVFlFZZcVRzaQ7R7\"\n",
    "search_term = \"My Shot\"\n",
    "genius_search_url = f'http://api.genius.com/search?q={search_term}&access_token={client_access_token}'"
   ]
  },
  {
   "cell_type": "markdown",
   "metadata": {},
   "source": [
    "There are two approaches in my approaches to scrap song url using the Genius API:"
   ]
  },
  {
   "cell_type": "markdown",
   "metadata": {},
   "source": [
    "The broad search method allows me to retrive all the lyrics url accroding to the candidat song track list.\n",
    "However, one disadvantage of the method is that the scrapper will scrap multiple urls if a song has multiple versions displayed on Genius."
   ]
  },
  {
   "cell_type": "markdown",
   "metadata": {},
   "source": [
    "For example:\n",
    "The song \"I'm coming out\" by Diana Ross has four different versions on Genius.\n",
    "<br>'https://genius.com/Diana-ross-im-coming-out-lyrics' \n",
    "<br>'https://genius.com/Diana-ross-im-coming-out-single-version-lyrics' \n",
    "<br>'https://genius.com/Diana-ross-im-coming-out-unreleased-chic-mix-lyrics' \n",
    "<br>'https://genius.com/Diana-ross-im-coming-out-maurice-joshua-club-mix-lyrics'\n",
    "\n",
    "The scrapper will include all of them if there were not any extra conditional statments parsed to refine the search."
   ]
  },
  {
   "cell_type": "code",
   "execution_count": 5,
   "metadata": {},
   "outputs": [
    {
     "name": "stdout",
     "output_type": "stream",
     "text": [
      "129\n"
     ]
    },
    {
     "data": {
      "text/plain": [
       "[['Aretha Franklin',\n",
       "  '\"Respect\": ',\n",
       "  ['https://genius.com/Aretha-franklin-respect-lyrics']],\n",
       " ['Dolly Parton',\n",
       "  '\"9 to 5\": ',\n",
       "  ['https://genius.com/Dolly-parton-9-to-5-lyrics']],\n",
       " ['Ben E. King',\n",
       "  '\"Stand by Me\": ',\n",
       "  ['https://genius.com/Ben-e-king-stand-by-me-lyrics']],\n",
       " ['Mary J. Blige',\n",
       "  '\"Work That\": ',\n",
       "  ['https://genius.com/Mary-j-blige-work-that-lyrics']],\n",
       " ['Panic! at the Disco',\n",
       "  '\"High Hopes\": ',\n",
       "  ['https://genius.com/Panic-at-the-disco-high-hopes-lyrics']],\n",
       " ['The O’Jays',\n",
       "  '\"Love Train\": ',\n",
       "  ['https://genius.com/The-ojays-love-train-lyrics']],\n",
       " ['Diana Ross',\n",
       "  '\"I’m Coming Out\": ',\n",
       "  ['https://genius.com/Diana-ross-im-coming-out-lyrics']],\n",
       " ['Diana Ross',\n",
       "  '\"I’m Coming Out\": ',\n",
       "  ['https://genius.com/Diana-ross-im-coming-out-single-version-lyrics']],\n",
       " ['Diana Ross',\n",
       "  '\"I’m Coming Out\": ',\n",
       "  ['https://genius.com/Diana-ross-im-coming-out-unreleased-chic-mix-lyrics']],\n",
       " ['Diana Ross',\n",
       "  '\"I’m Coming Out\": ',\n",
       "  ['https://genius.com/Diana-ross-im-coming-out-maurice-joshua-club-mix-lyrics']],\n",
       " ['Funkadelic',\n",
       "  '\"One Nation Under a Groove\": ',\n",
       "  ['https://genius.com/Funkadelic-one-nation-under-a-groove-lyrics']],\n",
       " ['Funkadelic',\n",
       "  '\"One Nation Under a Groove\": ',\n",
       "  ['https://genius.com/Funkadelic-one-nation-under-a-groove-part-1-lyrics']],\n",
       " ['Neil Young',\n",
       "  '\"Rocking in the Free World\": ',\n",
       "  ['https://genius.com/Neil-young-rockin-in-the-free-world-electric-lyrics']],\n",
       " ['Neil Young',\n",
       "  '\"Rocking in the Free World\": ',\n",
       "  ['https://genius.com/Neil-young-rockin-in-the-free-world-live-acoustic-lyrics']],\n",
       " ['Lin-Manuel Miranda',\n",
       "  '\"My Shot\": ',\n",
       "  ['https://genius.com/Lin-manuel-miranda-my-shot-demo-lyrics']]]"
      ]
     },
     "execution_count": 5,
     "metadata": {},
     "output_type": "execute_result"
    }
   ],
   "source": [
    "song_list = []\n",
    "\n",
    "for title in song_dict.keys():\n",
    "    searchKey = title\n",
    "    url_iter = f'http://api.genius.com/search?q={searchKey}&access_token={client_access_token}'\n",
    "    data = requests.get(url_iter).json()\n",
    "    for song in data['response']['hits']:\n",
    "        \n",
    "        song_artist = song['result']['primary_artist']['name']\n",
    "        song_title = song['result']['title']\n",
    "        if song_artist == song_dict[searchKey]:\n",
    "            song_url = []\n",
    "            song_list.append(list((song_artist, '\\\"' + searchKey + '\\\": ', song_url)))\n",
    "            song_url.append(song['result']['url'])\n",
    "            \n",
    "print(len(song_list))\n",
    "song_list[:15]"
   ]
  },
  {
   "cell_type": "markdown",
   "metadata": {},
   "source": [
    "The refined search method contain the one extra conditional statment to let the scrapper to scrap the url only if there is a exact match between song titles in the candidate list and the on Genius."
   ]
  },
  {
   "cell_type": "markdown",
   "metadata": {},
   "source": [
    "The obvious advantage of this approach is that it will ensure there is only one url corresponding to the song and the artist.\n",
    "<br>\n",
    "However, the scrapper is not able to scrap some of the url dur some naming convention discrepancy between the titles in the candidate list and the one on Genius."
   ]
  },
  {
   "cell_type": "markdown",
   "metadata": {},
   "source": [
    "For example, <br>\n",
    "The artist \"Toots and the Maytals\" shown in the candidate list is displayed as \"Toots & the Maytals\" on Genius which results in the discrepancy of the output."
   ]
  },
  {
   "cell_type": "code",
   "execution_count": null,
   "metadata": {},
   "outputs": [],
   "source": [
    "song_list_2 = []\n",
    "for title in song_dict.keys():\n",
    "    searchKey = title\n",
    "    #print('key = ' + searchKey)\n",
    "    url_iter = f'http://api.genius.com/search?q={searchKey}&access_token={client_access_token}'\n",
    "    data = requests.get(url_iter).json()\n",
    "    for song in data['response']['hits']:\n",
    "        \n",
    "        song_artist = song['result']['primary_artist']['name']\n",
    "        song_title = song['result']['title']\n",
    "        if song_artist == song_dict[searchKey] and song_title == searchKey:\n",
    "            song_list_2.append(list((song_artist, '\\\"' + searchKey + '\\\": ', song['result']['url'])))\n",
    "            \n",
    "print(len(song_list_2))\n",
    "song_list_2[:15]"
   ]
  },
  {
   "cell_type": "markdown",
   "metadata": {},
   "source": [
    "**Packages used in this document**\n",
    "<br>\n",
    "`requests`\n",
    "<br>\n",
    "`BeautifulSoup`"
   ]
  },
  {
   "cell_type": "code",
   "execution_count": null,
   "metadata": {},
   "outputs": [],
   "source": [
    "!jupyter nbconvert --to html Scraping_song_lyrics_url_using_the_Genius_API-submit.ipynb"
   ]
  },
  {
   "cell_type": "markdown",
   "metadata": {},
   "source": [
    "&nbsp;\n",
    "<hr />\n",
    "<p style=\"font-family:palatino; text-align: center;font-size: 15px\">QTM 340 Quiz 2 (Scraping song lyrics url using the Genius API)</a></p>\n",
    "<p style=\"font-family:palatino; text-align: center;font-size: 15px\"> <em> Zejia Chen</em></a></p>\n",
    "<p style=\"font-family:palatino; text-align: center;font-size: 15px\"><span style=\"color: #6666FF;\"><em>zejia.chen@emory.edu</em></span></p>\n",
    "\n",
    "<p style=\"font-family:palatino; text-align: center; color: #012169;font-size: 15px\">Emory University</a></p>\n",
    "\n",
    "&nbsp;"
   ]
  }
 ],
 "metadata": {
  "kernelspec": {
   "display_name": "Python 3",
   "language": "python",
   "name": "python3"
  },
  "language_info": {
   "codemirror_mode": {
    "name": "ipython",
    "version": 3
   },
   "file_extension": ".py",
   "mimetype": "text/x-python",
   "name": "python",
   "nbconvert_exporter": "python",
   "pygments_lexer": "ipython3",
   "version": "3.8.5"
  }
 },
 "nbformat": 4,
 "nbformat_minor": 4
}
